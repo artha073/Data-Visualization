{
  "nbformat": 4,
  "nbformat_minor": 0,
  "metadata": {
    "colab": {
      "name": "KetutGedeArthaYoga.ipynb",
      "provenance": [],
      "toc_visible": true
    },
    "kernelspec": {
      "name": "python3",
      "display_name": "Python 3"
    }
  },
  "cells": [
    {
      "cell_type": "markdown",
      "metadata": {
        "id": "IyHwK3EORXNR"
      },
      "source": [
        "# Data Visualization\n",
        "### NAMA : Ketut Gede Artha Yoga\n",
        "### NIM  : 180030869"
      ]
    },
    {
      "cell_type": "markdown",
      "metadata": {
        "id": "_lCNsn1gR8y0"
      },
      "source": [
        "###  Import Library"
      ]
    },
    {
      "cell_type": "code",
      "metadata": {
        "id": "0K9lLI0aPj-N",
        "outputId": "daf9a485-da79-4383-a3e3-03324380e0bd",
        "colab": {
          "base_uri": "https://localhost:8080/",
          "height": 360
        }
      },
      "source": [
        "import matplotlib.pyplot as plt\n",
        "import pandas as pd\n",
        "import scipy.cluster.hierarchy as sch\n",
        "from sklearn.cluster import AgglomerativeClustering\n",
        "from sklearn.datasets import make_blobs\n",
        "\n",
        "data = pd.read_csv(\"https://raw.githubusercontent.com/cornflake15/data-course/main/datasets/public-health-statistics-by-chicago-community-area.csv\")\n",
        "data.head()"
      ],
      "execution_count": 44,
      "outputs": [
        {
          "output_type": "execute_result",
          "data": {
            "text/html": [
              "<div>\n",
              "<style scoped>\n",
              "    .dataframe tbody tr th:only-of-type {\n",
              "        vertical-align: middle;\n",
              "    }\n",
              "\n",
              "    .dataframe tbody tr th {\n",
              "        vertical-align: top;\n",
              "    }\n",
              "\n",
              "    .dataframe thead th {\n",
              "        text-align: right;\n",
              "    }\n",
              "</style>\n",
              "<table border=\"1\" class=\"dataframe\">\n",
              "  <thead>\n",
              "    <tr style=\"text-align: right;\">\n",
              "      <th></th>\n",
              "      <th>Community Area</th>\n",
              "      <th>Community Area Name</th>\n",
              "      <th>Birth Rate</th>\n",
              "      <th>General Fertility Rate</th>\n",
              "      <th>Low Birth Weight</th>\n",
              "      <th>Prenatal Care Beginning in First Trimester</th>\n",
              "      <th>Preterm Births</th>\n",
              "      <th>Teen Birth Rate</th>\n",
              "      <th>Assault (Homicide)</th>\n",
              "      <th>Breast cancer in females</th>\n",
              "      <th>Cancer (All Sites)</th>\n",
              "      <th>Colorectal Cancer</th>\n",
              "      <th>Diabetes-related</th>\n",
              "      <th>Firearm-related</th>\n",
              "      <th>Infant Mortality Rate</th>\n",
              "      <th>Lung Cancer</th>\n",
              "      <th>Prostate Cancer in Males</th>\n",
              "      <th>Stroke (Cerebrovascular Disease)</th>\n",
              "      <th>Childhood Blood Lead Level Screening</th>\n",
              "      <th>Childhood Lead Poisoning</th>\n",
              "      <th>Gonorrhea in Females</th>\n",
              "      <th>Gonorrhea in Males</th>\n",
              "      <th>Tuberculosis</th>\n",
              "      <th>Below Poverty Level</th>\n",
              "      <th>Crowded Housing</th>\n",
              "      <th>Dependency</th>\n",
              "      <th>No High School Diploma</th>\n",
              "      <th>Per Capita Income</th>\n",
              "      <th>Unemployment</th>\n",
              "    </tr>\n",
              "  </thead>\n",
              "  <tbody>\n",
              "    <tr>\n",
              "      <th>0</th>\n",
              "      <td>1</td>\n",
              "      <td>Rogers Park</td>\n",
              "      <td>16.4</td>\n",
              "      <td>62.0</td>\n",
              "      <td>11.0</td>\n",
              "      <td>73.0</td>\n",
              "      <td>11.2</td>\n",
              "      <td>40.8</td>\n",
              "      <td>7.7</td>\n",
              "      <td>23.3</td>\n",
              "      <td>176.9</td>\n",
              "      <td>25.3</td>\n",
              "      <td>77.1</td>\n",
              "      <td>5.2</td>\n",
              "      <td>6.4</td>\n",
              "      <td>36.7</td>\n",
              "      <td>21.7</td>\n",
              "      <td>33.7</td>\n",
              "      <td>364.7</td>\n",
              "      <td>0.5</td>\n",
              "      <td>322.5</td>\n",
              "      <td>423.3</td>\n",
              "      <td>11.4</td>\n",
              "      <td>22.7</td>\n",
              "      <td>7.9</td>\n",
              "      <td>28.8</td>\n",
              "      <td>18.1</td>\n",
              "      <td>23714</td>\n",
              "      <td>7.5</td>\n",
              "    </tr>\n",
              "    <tr>\n",
              "      <th>1</th>\n",
              "      <td>2</td>\n",
              "      <td>West Ridge</td>\n",
              "      <td>17.3</td>\n",
              "      <td>83.3</td>\n",
              "      <td>8.1</td>\n",
              "      <td>71.1</td>\n",
              "      <td>8.3</td>\n",
              "      <td>29.9</td>\n",
              "      <td>5.8</td>\n",
              "      <td>20.2</td>\n",
              "      <td>155.9</td>\n",
              "      <td>17.3</td>\n",
              "      <td>60.5</td>\n",
              "      <td>3.7</td>\n",
              "      <td>5.1</td>\n",
              "      <td>36.0</td>\n",
              "      <td>14.2</td>\n",
              "      <td>34.7</td>\n",
              "      <td>331.4</td>\n",
              "      <td>1.0</td>\n",
              "      <td>141.0</td>\n",
              "      <td>205.7</td>\n",
              "      <td>8.9</td>\n",
              "      <td>15.1</td>\n",
              "      <td>7.0</td>\n",
              "      <td>38.3</td>\n",
              "      <td>19.6</td>\n",
              "      <td>21375</td>\n",
              "      <td>7.9</td>\n",
              "    </tr>\n",
              "    <tr>\n",
              "      <th>2</th>\n",
              "      <td>3</td>\n",
              "      <td>Uptown</td>\n",
              "      <td>13.1</td>\n",
              "      <td>50.5</td>\n",
              "      <td>8.3</td>\n",
              "      <td>77.7</td>\n",
              "      <td>10.3</td>\n",
              "      <td>35.1</td>\n",
              "      <td>5.4</td>\n",
              "      <td>21.3</td>\n",
              "      <td>183.3</td>\n",
              "      <td>20.5</td>\n",
              "      <td>80.0</td>\n",
              "      <td>4.6</td>\n",
              "      <td>6.5</td>\n",
              "      <td>50.5</td>\n",
              "      <td>25.2</td>\n",
              "      <td>41.7</td>\n",
              "      <td>353.7</td>\n",
              "      <td>0.5</td>\n",
              "      <td>170.8</td>\n",
              "      <td>468.7</td>\n",
              "      <td>13.6</td>\n",
              "      <td>22.7</td>\n",
              "      <td>4.6</td>\n",
              "      <td>22.2</td>\n",
              "      <td>13.6</td>\n",
              "      <td>32355</td>\n",
              "      <td>7.7</td>\n",
              "    </tr>\n",
              "    <tr>\n",
              "      <th>3</th>\n",
              "      <td>4</td>\n",
              "      <td>Lincoln Square</td>\n",
              "      <td>17.1</td>\n",
              "      <td>61.0</td>\n",
              "      <td>8.1</td>\n",
              "      <td>80.5</td>\n",
              "      <td>9.7</td>\n",
              "      <td>38.4</td>\n",
              "      <td>5.0</td>\n",
              "      <td>21.7</td>\n",
              "      <td>153.2</td>\n",
              "      <td>8.6</td>\n",
              "      <td>55.4</td>\n",
              "      <td>6.1</td>\n",
              "      <td>3.8</td>\n",
              "      <td>43.1</td>\n",
              "      <td>27.6</td>\n",
              "      <td>36.9</td>\n",
              "      <td>273.3</td>\n",
              "      <td>0.4</td>\n",
              "      <td>98.8</td>\n",
              "      <td>195.5</td>\n",
              "      <td>8.5</td>\n",
              "      <td>9.5</td>\n",
              "      <td>3.1</td>\n",
              "      <td>25.6</td>\n",
              "      <td>12.5</td>\n",
              "      <td>35503</td>\n",
              "      <td>6.8</td>\n",
              "    </tr>\n",
              "    <tr>\n",
              "      <th>4</th>\n",
              "      <td>5</td>\n",
              "      <td>North Center</td>\n",
              "      <td>22.4</td>\n",
              "      <td>76.2</td>\n",
              "      <td>9.1</td>\n",
              "      <td>80.4</td>\n",
              "      <td>9.8</td>\n",
              "      <td>8.4</td>\n",
              "      <td>1.0</td>\n",
              "      <td>16.6</td>\n",
              "      <td>152.1</td>\n",
              "      <td>26.1</td>\n",
              "      <td>49.8</td>\n",
              "      <td>1.0</td>\n",
              "      <td>2.7</td>\n",
              "      <td>42.4</td>\n",
              "      <td>15.1</td>\n",
              "      <td>41.6</td>\n",
              "      <td>178.1</td>\n",
              "      <td>0.9</td>\n",
              "      <td>85.4</td>\n",
              "      <td>188.6</td>\n",
              "      <td>1.9</td>\n",
              "      <td>7.1</td>\n",
              "      <td>0.2</td>\n",
              "      <td>25.5</td>\n",
              "      <td>5.4</td>\n",
              "      <td>51615</td>\n",
              "      <td>4.5</td>\n",
              "    </tr>\n",
              "  </tbody>\n",
              "</table>\n",
              "</div>"
            ],
            "text/plain": [
              "   Community Area Community Area Name  ...  Per Capita Income  Unemployment\n",
              "0               1         Rogers Park  ...              23714           7.5\n",
              "1               2          West Ridge  ...              21375           7.9\n",
              "2               3              Uptown  ...              32355           7.7\n",
              "3               4      Lincoln Square  ...              35503           6.8\n",
              "4               5        North Center  ...              51615           4.5\n",
              "\n",
              "[5 rows x 29 columns]"
            ]
          },
          "metadata": {
            "tags": []
          },
          "execution_count": 44
        }
      ]
    },
    {
      "cell_type": "markdown",
      "metadata": {
        "id": "0tyFeobZTzMp"
      },
      "source": [
        "### Categorical"
      ]
    },
    {
      "cell_type": "code",
      "metadata": {
        "id": "EZrK5A0Dci-b",
        "outputId": "d540dc84-f723-4e30-aa22-42b85efac639",
        "colab": {
          "base_uri": "https://localhost:8080/",
          "height": 339
        }
      },
      "source": [
        "fig = plt.figure()\n",
        "ax = fig.add_axes([0, 0, 1, 1])\n",
        "community = data[:6]['Community Area Name']\n",
        "per_capita = data[:6]['Per Capita Income']\n",
        "ax.scatter(community, per_capita)\n",
        "plt.show()"
      ],
      "execution_count": 45,
      "outputs": [
        {
          "output_type": "display_data",
          "data": {
            "image/png": "[encoded data removed]",
            "text/plain": [
              "<Figure size 432x288 with 1 Axes>"
            ]
          },
          "metadata": {
            "tags": [],
            "needs_background": "light"
          }
        }
      ]
    },
    {
      "cell_type": "markdown",
      "metadata": {
        "id": "sJeXdcgrTvvh"
      },
      "source": [
        "### Hierarchy"
      ]
    },
    {
      "cell_type": "code",
      "metadata": {
        "id": "RCxXcLGtVSeA",
        "outputId": "f8d81288-95da-4e0b-877f-5270338217ec",
        "colab": {
          "base_uri": "https://localhost:8080/",
          "height": 268
        }
      },
      "source": [
        "dendrogram = sch.dendrogram(sch.linkage(per_capita, method='ward'))"
      ],
      "execution_count": null,
      "outputs": [
        {
          "output_type": "display_data",
          "data": {
            "image/png": "[encoded data removed]",
            "text/plain": [
              "<Figure size 432x288 with 1 Axes>"
            ]
          },
          "metadata": {
            "tags": [],
            "needs_background": "light"
          }
        }
      ]
    }
  ]
}